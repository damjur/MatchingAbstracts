{
 "metadata": {
  "name": "",
  "signature": "sha256:fb7ae06c2c4da95c3213542ed45017fe222ca413388b70be0eb2cacd063cb86b"
 },
 "nbformat": 3,
 "nbformat_minor": 0,
 "worksheets": [
  {
   "cells": [
    {
     "cell_type": "code",
     "collapsed": false,
     "input": [
      "from scipy.stats.stats import pearsonr \n",
      "import numpy as np\n",
      "\n",
      "\n",
      "def binarySearch(column):\n",
      "    n = len(column)\n",
      "    i = n/2\n",
      "    d = n/2\n",
      "    while column[i] == column[i+1]:\n",
      "        d /= 2\n",
      "        if column[i] != 0:\n",
      "            i += d\n",
      "        else: \n",
      "            i -= d\n",
      "    return i\n",
      "\n",
      "\n",
      "def findEdge(img):\n",
      "    edge = []\n",
      "    for column in img.T:\n",
      "        edge.append(binarySearch(column))\n",
      "    return edge\n",
      "\n",
      "\n",
      "def compareImagesCorr(imgs):\n",
      "    edges = []\n",
      "    for i, imgSet in enumerate(imgs):\n",
      "        edges.append([])\n",
      "        for img in imgSet:\n",
      "            edges[i].append(findEdge(img))\n",
      "    pearson = np.zeros((len(edges), len(edges)))\n",
      "    for i in range(len(edges)):\n",
      "        best = 0\n",
      "        for edge in edges[i]:\n",
      "            edge = edge[:, ::-1]\n",
      "            for j in range(0, i):\n",
      "                for edge2 in edges[j]:\n",
      "                    best = max(best, pearsonr(edges[i], edges[j])[0]**2)\n",
      "                pearson[i][j] = pearson[j][i] = best\n",
      "    return pearson\n",
      "\n",
      "\n",
      "def compareImagesDiff(imgs):\n",
      "    diff = np.zeros((len(imgs), len(imgs)), dtype=np.uint16)\n",
      "    for i in range(len(imgs)):\n",
      "        best = 99999999999\n",
      "        for img in imgs[i]:\n",
      "            img = img[:, ::-1]\n",
      "            for j in range(0, i):\n",
      "                for img2 in imgs[j]:\n",
      "                    best = min((imgs[i] != imgs[j]).sum(), best)\n",
      "                diff[i][j] = diff[j][i] = best\n",
      "    return diff"
     ],
     "language": "python",
     "metadata": {},
     "outputs": [],
     "prompt_number": 1
    },
    {
     "cell_type": "code",
     "collapsed": false,
     "input": [],
     "language": "python",
     "metadata": {},
     "outputs": [],
     "prompt_number": 0
    },
    {
     "cell_type": "code",
     "collapsed": false,
     "input": [],
     "language": "python",
     "metadata": {},
     "outputs": []
    }
   ],
   "metadata": {}
  }
 ]
}