{
 "cells": [
  {
   "cell_type": "code",
   "execution_count": 1,
   "metadata": {},
   "outputs": [],
   "source": [
    "%matplotlib inline\n",
    "import cv2\n",
    "from matplotlib import pyplot as plt\n",
    "import numpy as np\n",
    "import os"
   ]
  },
  {
   "cell_type": "code",
   "execution_count": 48,
   "metadata": {},
   "outputs": [],
   "source": [
    "def getLine(p1,p2):  \n",
    "#     if p1[0]!=p2[0]:\n",
    "#         a = (p1[1]-p2[1])/(p1[0]-p2[0])\n",
    "#         b = p1[1]-a*p1[0]\n",
    "#         return (a,b)\n",
    "    a = p1[1]-p2[1]\n",
    "    b =-p1[0]+p2[0]\n",
    "    c =-a*p1[0]-b*p1[1]\n",
    "    \n",
    "    return (a,b,c)\n",
    "\n",
    "def getDistanceFromLine(p,l):\n",
    "    return np.abs(l[0]*p[0]-l[1]*p[1]+l[2])/np.sqrt(l[0]**2 + l[1]**2)\n",
    "#     return np.abs(l[0]*p[0]-p[1]+l[1])/np.sqrt(l[0]**2 + 1)\n",
    "\n",
    "def getLinesCrossing(a1,b1,c1,a2,b2,c2):\n",
    "    d = a1*b2-a2*b1\n",
    "    if d!=None:\n",
    "        x = (b1*c2-b2*c1)/d\n",
    "        y =-(a1*c2-a2*c1)/d\n",
    "        return [x,y]\n",
    "\n",
    "def canBeSide(A,B,defects):\n",
    "    return True\n",
    "    return tuple(np.append(A[0],B[0])) not in defects\n",
    "        \n",
    "\n",
    "def canBeSides(points,defects):\n",
    "    result = True\n",
    "    for i in range(len(points)):\n",
    "        result = result and canBeSide(points[i],points[(i+1)%len(points)],defects)\n",
    "        if not result: break\n",
    "    return result\n",
    "\n",
    "def getPointsToCutOut(points,others):\n",
    "    p1,p2,p3,p4 = points[:,0,:]\n",
    "    l1 = getLine(p1,p2)\n",
    "    l2 = getLine(p2,p3)\n",
    "    l3 = getLine(p3,p4)\n",
    "    \n",
    "    maxd = -1\n",
    "    p5=None\n",
    "    others = np.append(others,[[p1],[p4]],axis=0)\n",
    "    for pi in others[:,0,:]:\n",
    "        d = getDistanceFromLine(pi,l2)\n",
    "        if d>=maxd:\n",
    "            maxd=d\n",
    "            p5=pi\n",
    "    \n",
    "    l4 = (l2[0],l2[1],-l2[0]*p5[0]-l2[1]*p5[1])\n",
    "    p6 = getLinesCrossing(*l1,*l4)\n",
    "    p7 = getLinesCrossing(*l3,*l4)\n",
    "    return np.array([[p6],[p2],[p3],[p7]])#[[0,0],[0,height],[width,height],[width,0]]\n",
    "\n",
    "def checkIfCorrect(points,width,height):\n",
    "    for p in points:\n",
    "        if p[0]<0 or p[0]>width or p[1]<0 or p[1]>height:\n",
    "            return False\n",
    "    return True\n",
    "    \n",
    "def getPropositions(path):\n",
    "    image = cv2.imread(path,0)# 0 - greyscale\n",
    "    _,contours,_ = cv2.findContours(image, cv2.RETR_EXTERNAL,cv2.CHAIN_APPROX_SIMPLE)\n",
    "    cnt = contours[0]\n",
    "    chull = cv2.convexHull(cnt)\n",
    "    epsilon = 0.01*cv2.arcLength(chull,True)\n",
    "    approx = cv2.approxPolyDP(chull,epsilon,True)\n",
    "    defects = cv2.convexityDefects(cnt,cv2.convexHull(cnt,returnPoints=False))\n",
    "\n",
    "    selections = []\n",
    "    height,width = image.shape\n",
    "    for i in range(len(approx)):\n",
    "        vertices = np.empty((0,1,2))\n",
    "        others = np.empty((0,1,2))\n",
    "        for j in range(len(approx)):\n",
    "            k = (i+j)%len(approx)\n",
    "            if j<4:\n",
    "                vertices = np.append(vertices, [approx[k]],axis=0)\n",
    "            else:\n",
    "                others = np.append(others, [approx[k]],axis=0)\n",
    "        if canBeSides(vertices,defects):\n",
    "            selection = getPointsToCutOut(vertices,others)\n",
    "#             selections += [selection]\n",
    "            if checkIfCorrect(selection[:,0,:],width,height):\n",
    "                selections += [selection]\n",
    "    \n",
    "    propositions = []\n",
    "    negpropositions = []\n",
    "    width,height = 300,300\n",
    "    d = 0\n",
    "    for sel in selections:\n",
    "        pts2 = np.float32([[d,d],[d,height-d],[width-d,height-d],[width-d,d]])\n",
    "        pts1 = np.float32(sel[:,0,:])\n",
    "        \n",
    "        H = cv2.findHomography(pts1,pts2)[0]\n",
    "        \n",
    "        h1,w1 = image.shape\n",
    "        h2,w2 = image.shape\n",
    "        pts1 = np.float32([[0,0],[0,h1],[w1,h1],[w1,0]]).reshape(-1,1,2)\n",
    "        pts2 = np.float32([[0,0],[0,h2],[w2,h2],[w2,0]]).reshape(-1,1,2)\n",
    "        pts2_ = cv2.perspectiveTransform(pts1, H)\n",
    "        pts = np.concatenate((pts1, pts2_), axis=0)\n",
    "        [xmin, ymin] = np.int32(pts.min(axis=0).ravel() - 0.5)\n",
    "        [xmax, ymax] = np.int32(pts.max(axis=0).ravel() + 0.5)\n",
    "        t = [-xmin,-ymin]\n",
    "        Ht = np.array([[1,0,t[0]],[0,1,t[1]],[0,0,1]]) # translate\n",
    "\n",
    "        dst = cv2.warpPerspective(image, Ht.dot(H), (xmax-xmin, ymax-ymin))\n",
    "        dst[dst!=0] = dst.max()\n",
    "        kernel = np.ones((5,5),np.uint8)\n",
    "        dst = cv2.morphologyEx(dst, cv2.MORPH_OPEN, kernel)\n",
    "        dst = dst[:,~np.all(dst==0,axis=0)]\n",
    "        dst = dst[~np.all(dst==0,axis=1),:]\n",
    "        dst = dst[:,~np.all(dst==1,axis=0)]\n",
    "        dst = dst[~np.all(dst==1,axis=1),:]\n",
    "        \n",
    "        dst = cv2.resize(dst,(width,height))  \n",
    "        \n",
    "        neg = dst.max() - dst\n",
    "        \n",
    "        propositions += [dst]\n",
    "#         negpropositions += [neg]\n",
    "    return propositions,negpropositions"
   ]
  },
  {
   "cell_type": "code",
   "execution_count": 49,
   "metadata": {},
   "outputs": [
    {
     "data": {
      "image/png": "[encoded data removed]",
      "text/plain": [
       "<matplotlib.figure.Figure at 0x2af446ded30>"
      ]
     },
     "metadata": {},
     "output_type": "display_data"
    },
    {
     "data": {
      "image/png": "[encoded data removed]",
      "text/plain": [
       "<matplotlib.figure.Figure at 0x2af460f25c0>"
      ]
     },
     "metadata": {},
     "output_type": "display_data"
    },
    {
     "data": {
      "image/png": "[encoded data removed]",
      "text/plain": [
       "<matplotlib.figure.Figure at 0x2af4304eac8>"
      ]
     },
     "metadata": {},
     "output_type": "display_data"
    }
   ],
   "source": [
    "directpath = '.\\datasets\\set7'\n",
    "\n",
    "if __name__==\"__main__\":\n",
    "    if os.path.exists(directpath):\n",
    "        n = len(os.listdir(directpath))-1\n",
    "        for i in range(1):\n",
    "            filename = os.path.join(directpath,str(i)+'.png')\n",
    "            if os.path.exists(filename) and os.access(filename,os.R_OK):\n",
    "                props,negprops = getPropositions(filename)\n",
    "                \n",
    "                for prop in props:\n",
    "                    plt.figure()\n",
    "                    plt.title(filename)\n",
    "                    plt.imshow(prop)\n",
    "                    \n",
    "                for prop in negprops:\n",
    "                    plt.figure()\n",
    "                    plt.title(filename)\n",
    "                    plt.imshow(prop)"
   ]
  }
 ],
 "metadata": {
  "kernelspec": {
   "display_name": "Python 3",
   "language": "python",
   "name": "python3"
  },
  "language_info": {
   "codemirror_mode": {
    "name": "ipython",
    "version": 3
   },
   "file_extension": ".py",
   "mimetype": "text/x-python",
   "name": "python",
   "nbconvert_exporter": "python",
   "pygments_lexer": "ipython3",
   "version": "3.6.3"
  }
 },
 "nbformat": 4,
 "nbformat_minor": 2
}
