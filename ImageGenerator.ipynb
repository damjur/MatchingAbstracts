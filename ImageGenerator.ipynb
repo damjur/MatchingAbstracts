{
 "metadata": {
  "name": "",
  "signature": "sha256:d2cccc17d17f10be5e8a25958d4b60e0ee47376cd2354e3621df9e316bf2d3f6"
 },
 "nbformat": 3,
 "nbformat_minor": 0,
 "worksheets": [
  {
   "cells": [
    {
     "cell_type": "code",
     "collapsed": false,
     "input": [
      "%matplotlib inline\n",
      "import numpy as np\n",
      "import skimage.draw\n",
      "import matplotlib.pyplot as plt\n",
      "import random\n",
      "import cv2"
     ],
     "language": "python",
     "metadata": {},
     "outputs": [],
     "prompt_number": 2
    },
    {
     "cell_type": "code",
     "collapsed": false,
     "input": [
      "def gen(x, y):\n",
      "    img = np.zeros((y,x), np.uint16)\n",
      "    img[5:-5,5:-5] = 255\n",
      "    start = random.randint(15, y-15)\n",
      "    end = random.randint(15, y-15)\n",
      "    numOfPoints = random.randint(0, 10)\n",
      "    poly = np.zeros((numOfPoints+2,2), dtype=np.uint16)\n",
      "    poly[0] = [start,5]\n",
      "    for i in range(numOfPoints):\n",
      "        poly[i+1] = [random.randint(20,y-20),(i+1) * x/(numOfPoints+2) - 5 + random.randint(0, 10)]\n",
      "    poly[numOfPoints+1] = [end, x-5]\n",
      "    print(poly)\n",
      "    def drawpolyline(img, poly):\n",
      "        img2 = np.zeros_like(img, dtype=np.uint16)\n",
      "        for p1,p2 in zip(poly[:-1],poly[1:]):\n",
      "            yy,xx = skimage.draw.line(p1[0],p1[1],p2[0],p2[1])\n",
      "            img[yy,xx] = 0\n",
      "            img2[yy,xx] = 1\n",
      "            for x, y in zip(xx,yy):\n",
      "                for i in range(y):\n",
      "                    img[i, x] = 0\n",
      "                    img2[i, x] = 1\n",
      "#             rows,cols = img.shape\n",
      "#             res = cv2.resize(img,None,fx=0.5+random.random(), fy=0.5+random.random(), interpolation = cv2.INTER_CUBIC)\n",
      "#             M = cv2.getRotationMatrix2D((cols/2,rows/2), random.randint(0, 360), 1)\n",
      "#             dst = cv2.warpAffine(img,M,(cols,rows*3))\n",
      "            plt.imshow(img)\n",
      "        return img2\n",
      "            \n",
      "    img2 = drawpolyline(img, poly)\n",
      "\n",
      "    return img, img2\n",
      "\n",
      "img, img2 = gen(550, 270)\n",
      "# plt.imshow(img)"
     ],
     "language": "python",
     "metadata": {},
     "outputs": [
      {
       "output_type": "stream",
       "stream": "stdout",
       "text": [
        "[[225   5]\n",
        " [ 82  53]\n",
        " [126 108]\n",
        " [116 165]\n",
        " [ 22 215]\n",
        " [239 274]\n",
        " [ 77 327]\n",
        " [249 388]\n",
        " [ 38 435]\n",
        " [229 545]]\n"
       ]
      },
      {
       "metadata": {},
       "output_type": "display_data",
       "png": "[encoded data removed]",
       "text": [
        "<matplotlib.figure.Figure at 0x7faeac71bd30>"
       ]
      }
     ],
     "prompt_number": 5
    },
    {
     "cell_type": "code",
     "collapsed": false,
     "input": [],
     "language": "python",
     "metadata": {},
     "outputs": [],
     "prompt_number": 22
    },
    {
     "cell_type": "code",
     "collapsed": false,
     "input": [],
     "language": "python",
     "metadata": {},
     "outputs": []
    }
   ],
   "metadata": {}
  }
 ]
}