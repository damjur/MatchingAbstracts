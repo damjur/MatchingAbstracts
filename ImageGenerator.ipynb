{
 "metadata": {
  "name": "",
  "signature": "sha256:702fbd000182082fc8376af1223064d86561c75ffd74eb5119837b41db0a00be"
 },
 "nbformat": 3,
 "nbformat_minor": 0,
 "worksheets": [
  {
   "cells": [
    {
     "cell_type": "code",
     "collapsed": false,
     "input": [
      "%matplotlib inline\n",
      "import numpy as np\n",
      "import skimage.draw\n",
      "import matplotlib.pyplot as plt\n",
      "import random"
     ],
     "language": "python",
     "metadata": {},
     "outputs": [],
     "prompt_number": 2
    },
    {
     "cell_type": "code",
     "collapsed": false,
     "input": [
      "def gen(x, y):\n",
      "    img = np.zeros((y,x), np.uint8)\n",
      "    img[5:-5,5:-5] = 255\n",
      "    start = random.randint(15, x-15)\n",
      "    end = random.randint(15, x-15)\n",
      "    numOfPoints = random.randint(0, 10)\n",
      "    poly = np.zeros((numOfPoints+2,2), dtype=np.uint8)\n",
      "    poly[0] = [start,5]\n",
      "    for i in range(numOfPoints):\n",
      "        poly[i+1] = [random.randint(20,y-20),(i+1) * x/(numOfPoints+2) - 5 + random.randint(0, 10)]\n",
      "    poly[numOfPoints+1] = [end, x-5]\n",
      "    def drawpolyline(img, poly):\n",
      "        img2 = np.zeros_like(img, dtype=np.uint8)\n",
      "        for p1,p2 in zip(poly[:-1],poly[1:]):\n",
      "            yy,xx = skimage.draw.line(p1[0],p1[1],p2[0],p2[1])\n",
      "            img[yy,xx] = 0\n",
      "            img2[yy,xx] = 1\n",
      "            for x, y in zip(xx,yy):\n",
      "                for i in range(y):\n",
      "                    img[i, x] = 0\n",
      "                    img2[i, x] = 1\n",
      "            plt.imshow(img2)\n",
      "        return img2\n",
      "            \n",
      "    img2 = drawpolyline(img, poly)\n",
      "\n",
      "    return img, img2\n",
      "\n",
      "img, img2 = gen(150, 270)\n",
      "# plt.imshow(img)"
     ],
     "language": "python",
     "metadata": {},
     "outputs": [
      {
       "metadata": {},
       "output_type": "display_data",
       "png": "[encoded data removed]",
       "text": [
        "<matplotlib.figure.Figure at 0x7f28d93e8668>"
       ]
      }
     ],
     "prompt_number": 38
    },
    {
     "cell_type": "code",
     "collapsed": false,
     "input": [],
     "language": "python",
     "metadata": {},
     "outputs": [],
     "prompt_number": 35
    },
    {
     "cell_type": "code",
     "collapsed": false,
     "input": [],
     "language": "python",
     "metadata": {},
     "outputs": []
    }
   ],
   "metadata": {}
  }
 ]
}