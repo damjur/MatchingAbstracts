{
 "cells": [
  {
   "cell_type": "code",
   "execution_count": 1,
   "metadata": {},
   "outputs": [],
   "source": [
    "%matplotlib inline\n",
    "import matplotlib.pyplot as plt\n",
    "from matplotlib import cm\n",
    "import numpy as np\n",
    "\n",
    "from skimage.transform import hough_line, hough_line_peaks\n",
    "from skimage.feature import canny\n",
    "from skimage import transform as tf\n",
    "from skimage import io"
   ]
  },
  {
   "cell_type": "code",
   "execution_count": 2,
   "metadata": {},
   "outputs": [],
   "source": [
    "def getCrossing(a1,a2,d1,d2):\n",
    "    x1 = (d1*np.sin(a2) - d2*np.sin(a1))/np.sin(a2-a1)\n",
    "    y1 = (d1 - x1*np.cos(a1))/np.sin(a1)\n",
    "    return x1,y1\n",
    "\n",
    "def f(a,d,x,height):\n",
    "    y = (d-x*np.cos(a))/np.sin(a)\n",
    "    if y<0:\n",
    "        y=0\n",
    "        x = d/np.cos(a)\n",
    "    elif y>height:\n",
    "        y=height\n",
    "        x=(d-y*np.sin(a))/np.cos(a)\n",
    "    return [x,y]\n",
    "\n",
    "def f2(a1,d1,width,height):\n",
    "    p1 = f(a1,d1,0,height)\n",
    "    p2 = f(a1,d1,width,height)\n",
    "    return p1,p2\n",
    "\n",
    "def f4(p1,p2,a,l1,l2,width,height):\n",
    "#     x1,y1 = getCrossing(a,l2[0],p1[0]*np.cos(a)+p1[0]*np.sin(a),l2[1])\n",
    "#     x2,y2 = getCrossing(a,l1[0],p2[0]*np.cos(a)+p2[0]*np.sin(a),l1[1])\n",
    "    \n",
    "    if p1[0]==p2[0]:#na poziomych\n",
    "        x1,y1 = getCrossing(a,l2[0],p1[0]*np.cos(a)+p1[1]*np.sin(a),l2[1])\n",
    "        x2,y2 = getCrossing(a,l1[0],p2[0]*np.cos(a)+p2[1]*np.sin(a),l1[1])\n",
    "        if x2<=0 or x2>=width:\n",
    "            return [[x2,y2],p2]\n",
    "        if x1<=0 or x1>=width:\n",
    "            return [p1,[x1,y1]]\n",
    "    elif p1[1]==p2[1]:#na pionowych\n",
    "        x1,y1 = getCrossing(a,l2[0],p1[0]*np.cos(a)+p1[1]*np.sin(a),l2[1])\n",
    "        x2,y2 = getCrossing(a,l1[0],p2[0]*np.cos(a)+p2[1]*np.sin(a),l1[1]) \n",
    "        if y2<=0 or y2>=height:\n",
    "            return [[x2,y2],p2]\n",
    "        if y1<=0 or y1>=height:\n",
    "            return [p1,[x1,y1]]\n",
    "    else:#na sąsiednich\n",
    "        if p1[0]==0 or p1[0]==width:\n",
    "            d = p1[0]*np.cos(a) + p2[1]*np.sin(a)\n",
    "        else:\n",
    "            d = p2[0]*np.cos(a) + p1[1]*np.sin(a)\n",
    "        x1,y1 = getCrossing(a,l1[0],d,l1[1])\n",
    "        x2,y2 = getCrossing(a,l2[0],d,l2[1])\n",
    "        return [[x1,y1],[x2,y2]]\n",
    "\n",
    "def f3(pl,pr,width,height,a):\n",
    "    p1,p2 = f2(*pl,width,height)\n",
    "    p3,p4 = f2(*pr,width,height)\n",
    "    \n",
    "    [p5,p6] = f4(p1,p3,a,pl,pr,width,height)\n",
    "    [p7,p8] = f4(p2,p4,a,pl,pr,width,height)\n",
    "    return [p5,p7,p8,p6]                        "
   ]
  },
  {
   "cell_type": "code",
   "execution_count": 3,
   "metadata": {},
   "outputs": [],
   "source": [
    "def normalize(image):\n",
    "    # Classic straight-line Hough transform\n",
    "    edges = canny(image, 2, 1, 25)\n",
    "    h, theta, d = hough_line(edges)\n",
    "    possibilities = []\n",
    "    for i,(_,a1,d1) in enumerate(zip(*hough_line_peaks(h, theta, d))):\n",
    "        for j,(_,a2,d2) in enumerate(zip(*hough_line_peaks(h, theta, d))):\n",
    "            if i<j and (a1!=a2 or d1!=d2):            \n",
    "                x1,y1 = getCrossing(a1,a2,d1,d2)\n",
    "                if x1>=0 and x1<=image.shape[1] and y1>=0 and y1<=image.shape[0]:\n",
    "                    for k,(_,a3,d3) in enumerate(zip(*hough_line_peaks(h, theta, d))):\n",
    "                        if j<k and (a3!=a1 or d3!=d1):  \n",
    "                            x2,y2 = getCrossing(a1,a3,d1,d3)\n",
    "                            if x2>=0 and x2<=image.shape[1] and y2>=0 and y2<=image.shape[0]:                      \n",
    "                                possibilities += [{'left':(a2,d2),'bottom':(a1,d1),'right':(a3,d3),'lbc':(x1,y1),'rbc':(x2,y2)}]#,'top':(a1,d4)}]\n",
    "    \n",
    "    height,width = image.shape\n",
    "    selections = []\n",
    "    for p in possibilities:\n",
    "        selections += [f3(p['left'],p['right'],width,height,p['bottom'][0])]\n",
    "    \n",
    "    width = 200\n",
    "    height = 200\n",
    "    src = np.array([[0, 0],[height, 0], [height, width], [0, width]])\n",
    "    tform3 = tf.ProjectiveTransform()\n",
    "    \n",
    "    solutions = []\n",
    "    for selection in selections:\n",
    "        dst = np.array(selection)\n",
    "        tform3.estimate(src, dst)\n",
    "        warped = tf.warp(image, tform3, output_shape=(height, width))\n",
    "        warped[warped!=0]=1\n",
    "        warped = warped[:,~np.all(warped==0,axis=0)]\n",
    "        warped = warped[~np.all(warped==0,axis=1),:]\n",
    "        warped = warped[:,~np.all(warped==1,axis=0)]\n",
    "        warped = warped[~np.all(warped==1,axis=1),:]\n",
    "        solutions += [warped]\n",
    "        \n",
    "    return solutions,selections"
   ]
  },
  {
   "cell_type": "code",
   "execution_count": 4,
   "metadata": {},
   "outputs": [],
   "source": [
    "def drawSelection(image,selection):\n",
    "    fig, ax = plt.subplots()\n",
    "    ax.imshow(image, interpolation='nearest', cmap=plt.cm.gray)\n",
    "    i = 0\n",
    "    for p in selection:\n",
    "        ax.plot((p[0],selection[(i+1)%len(selection)][0]), (p[1], selection[(i+1)%len(selection)][1]), '-r')\n",
    "        i = (i+1)%len(selection)\n",
    "    plt.show()"
   ]
  },
  {
   "cell_type": "code",
   "execution_count": 5,
   "metadata": {},
   "outputs": [
    {
     "data": {
      "image/png": "[encoded data removed]",
      "text/plain": [
       "<matplotlib.figure.Figure at 0x126d8f94ba8>"
      ]
     },
     "metadata": {},
     "output_type": "display_data"
    },
    {
     "data": {
      "image/png": "[encoded data removed]",
      "text/plain": [
       "<matplotlib.figure.Figure at 0x126d90d6eb8>"
      ]
     },
     "metadata": {},
     "output_type": "display_data"
    }
   ],
   "source": [
    "path = \"./datasets/set7/17.png\"\n",
    "image = io.imread(path)\n",
    "sols,sels = normalize(image)\n",
    "for sol,sel in zip(sols,sels):\n",
    "    drawSelection(image,sel)\n",
    "    plt.figure()\n",
    "    plt.imshow(sol)"
   ]
  },
  {
   "cell_type": "code",
   "execution_count": null,
   "metadata": {},
   "outputs": [],
   "source": []
  },
  {
   "cell_type": "code",
   "execution_count": null,
   "metadata": {},
   "outputs": [],
   "source": []
  }
 ],
 "metadata": {
  "kernelspec": {
   "display_name": "Python 3",
   "language": "python",
   "name": "python3"
  },
  "language_info": {
   "codemirror_mode": {
    "name": "ipython",
    "version": 3
   },
   "file_extension": ".py",
   "mimetype": "text/x-python",
   "name": "python",
   "nbconvert_exporter": "python",
   "pygments_lexer": "ipython3",
   "version": "3.6.3"
  }
 },
 "nbformat": 4,
 "nbformat_minor": 2
}
