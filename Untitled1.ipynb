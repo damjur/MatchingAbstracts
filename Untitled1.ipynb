{
 "cells": [
  {
   "cell_type": "code",
   "execution_count": 44,
   "metadata": {},
   "outputs": [],
   "source": [
    "%matplotlib inline\n",
    "import matplotlib.pyplot as plt\n",
    "from matplotlib import cm\n",
    "import numpy as np\n",
    "\n",
    "from skimage.transform import hough_line, hough_line_peaks\n",
    "from skimage.feature import canny\n",
    "from skimage import transform as tf\n",
    "from skimage import io\n",
    "\n",
    "from skimage.morphology import convex_hull_image\n",
    "from skimage.measure import find_contours, approximate_polygon"
   ]
  },
  {
   "cell_type": "code",
   "execution_count": 518,
   "metadata": {},
   "outputs": [],
   "source": [
    "def getCrossing(a1,a2,d1,d2):\n",
    "    x1 = (d1*np.sin(a2) - d2*np.sin(a1))/np.sin(a2-a1)\n",
    "    y1 = (d1 - x1*np.cos(a1))/np.sin(a1)\n",
    "    return x1,y1\n",
    "\n",
    "def f(a,d,x,height):\n",
    "    y = (d-x*np.cos(a))/np.sin(a)\n",
    "#     print(x,y)\n",
    "    if y<0:\n",
    "        y=0\n",
    "        x = d/np.cos(a)\n",
    "    elif y>height:\n",
    "        y=height\n",
    "        x=(d-y*np.sin(a))/np.cos(a)\n",
    "#     print(x,y)\n",
    "    return [x,y]\n",
    "\n",
    "def f2(a1,d1,width,height):#punkty przecięcia linii i krawędzi obrazka\n",
    "    p1 = f(a1,d1,0,height)\n",
    "    p2 = f(a1,d1,width,height)\n",
    "    return p1,p2\n",
    "\n",
    "def f4(p1,p2,a,l1,l2,width,height):\n",
    "    print(p1,p2)\n",
    "    if p1[0]==p2[0]:#na poziomych\n",
    "        x1,y1 = getCrossing(a,l2[0],p1[0]*np.cos(a)+p1[1]*np.sin(a),l2[1])\n",
    "        x2,y2 = getCrossing(a,l1[0],p2[0]*np.cos(a)+p2[1]*np.sin(a),l1[1])\n",
    "        if x2<=0 or x2>=width:\n",
    "            return [[x2,y2],p2]\n",
    "        if x1<=0 or x1>=width:\n",
    "            return [p1,[x1,y1]]\n",
    "    elif p1[1]==p2[1]:#na pionowych\n",
    "        x1,y1 = getCrossing(a,l2[0],p1[0]*np.cos(a)+p1[1]*np.sin(a),l2[1])\n",
    "        x2,y2 = getCrossing(a,l1[0],p2[0]*np.cos(a)+p2[1]*np.sin(a),l1[1]) \n",
    "        if y2<=0 or y2>=height:\n",
    "            return [[x2,y2],p2]\n",
    "        if y1<=0 or y1>=height:\n",
    "            return [p1,[x1,y1]]\n",
    "    else:#na sąsiednich\n",
    "        if p1[0]==0 or p1[0]==width:\n",
    "            d = p1[0]*np.cos(a) + p2[1]*np.sin(a)\n",
    "        else:\n",
    "            d = p2[0]*np.cos(a) + p1[1]*np.sin(a)\n",
    "        x1,y1 = getCrossing(a,l1[0],d,l1[1])\n",
    "        x2,y2 = getCrossing(a,l2[0],d,l2[1])\n",
    "        return [[x1,y1],[x2,y2]]\n",
    "\n",
    "def f3(pl,pr,width,height,a):\n",
    "    p1,p2 = f2(*pl,width,height)\n",
    "    p3,p4 = f2(*pr,width,height)\n",
    "    \n",
    "    [p5,p6] = f4(p1,p3,a,pl,pr,width,height)\n",
    "    [p7,p8] = f4(p2,p4,a,pl,pr,width,height)\n",
    "    return [p5,p7,p8,p6]                        "
   ]
  },
  {
   "cell_type": "code",
   "execution_count": 519,
   "metadata": {},
   "outputs": [],
   "source": [
    "def f6(x,y,height,width):#najbliższe rogi\n",
    "    if x==0:\n",
    "        return [0,0],[0,height]\n",
    "    elif x==width:\n",
    "        return [width,0],[width,height]\n",
    "    elif y==0:\n",
    "        return [0,0],[width,0]\n",
    "    elif y==height:\n",
    "        return [0,height],[width,height]\n",
    "    \n",
    "def f7(points,a,d):#który róg jest dalej\n",
    "    dd = -1\n",
    "    for point in points:\n",
    "        dd2 = np.abs(point[0]*np.cos(a) + point[1]*np.sin(a) - d)\n",
    "        if dd2>dd:\n",
    "            point2 = point\n",
    "            dd = dd2\n",
    "    return point2\n",
    "\n",
    "def f5(line,width,height):\n",
    "    p1,p2 = f2(*line,width,height)\n",
    "    p3,p4 = f6(*p1,height,width)\n",
    "    p5,p6 = f6(*p2,height,width)\n",
    "    p3    = f7([p3,p5],*line)\n",
    "    p4    = f7([p4,p6],*line)\n",
    "    return [p1,p2,p3],[p1,p2,p4]\n",
    "\n",
    "def f8(point,line):#czy punkt leży na linii\n",
    "    return np.abs(point[0]*np.sin(line[0])+point[1]*np.cos(line[0]) - line[1])<=5\n",
    "\n",
    "def f10(point1,point2):#linia między punktami\n",
    "    a = (point1[0]-point2[0])/(point1[1]-point2[1])\n",
    "    b = point1[0] - a * point1[1]\n",
    "    th= np.arctan(-a**(-1))\n",
    "    rh= b*np.sin(th)\n",
    "    return [th,rh]\n",
    "\n",
    "def f9(points,line):\n",
    "    lines = []\n",
    "    line2 = None\n",
    "    for i,point in enumerate(points):\n",
    "        if f8(point,line):\n",
    "            j = (i+1)%len(points)\n",
    "            if not f8(points[j],line):\n",
    "                line2 = f10(point,points[j])\n",
    "                drawLine(image.copy(),line2[0],line2[1],image.shape[1])\n",
    "            else:\n",
    "                j = i-1 if i>0 else len(points)-1\n",
    "                if not f8(points[j],line):\n",
    "                    line2 = f10(point,points[j])\n",
    "                    drawLine(image.copy(),line2[0],line2[1],image.shape[1])\n",
    "            if line2 is not None:\n",
    "                lines += [line2]\n",
    "    return lines\n",
    "    \n",
    "def normalize(image):\n",
    "    # Classic straight-line Hough transform\n",
    "    height,width = image.shape\n",
    "    edges = canny(image, 2, 1, 25)\n",
    "    h, theta, d = hough_line(edges)\n",
    "    chull = convex_hull_image(image)\n",
    "    cnt = find_contours(chull,0)[0]\n",
    "    poly = approximate_polygon(cnt,tolerance=5)\n",
    "    \n",
    "    lines = []\n",
    "#     lines2=[]\n",
    "    for _,a,d in zip(*hough_line_peaks(h, theta, d)):\n",
    "        addlines= f9(poly[:-1],(a,d))\n",
    "        lines += [[a,d]]\n",
    "#         lines2 += [[a,d]]\n",
    "        if len(addlines)>0:\n",
    "            lines += addlines\n",
    "    plt.imshow(image)\n",
    "    plt.figure()\n",
    "#     print(lines)\n",
    "#     print(lines2)\n",
    "    possibilities = []\n",
    "    for i,[a1,d1] in enumerate(lines):\n",
    "        for j,[a2,d2] in enumerate(lines):\n",
    "            if i<j and (a1!=a2 or d1!=d2):            \n",
    "                x1,y1 = getCrossing(a1,a2,d1,d2)\n",
    "                if x1>=0 and x1<=image.shape[1] and y1>=0 and y1<=image.shape[0]:\n",
    "                    for k,[a3,d3] in enumerate(lines):\n",
    "                        if j<k and (a3!=a1 or d3!=d1):  \n",
    "                            x2,y2 = getCrossing(a1,a3,d1,d3)\n",
    "                            if x2>=0 and x2<=image.shape[1] and y2>=0 and y2<=image.shape[0]:                      \n",
    "                                possibilities += [{'left':(a2,d2),'bottom':(a1,d1),'right':(a3,d3),'lbc':(x1,y1),'rbc':(x2,y2)}]#,'top':(a1,d4)}]\n",
    "                                \n",
    "    height,width = image.shape\n",
    "    selections = []\n",
    "    for p in possibilities:\n",
    "        if p['left']!=p['right']:\n",
    "            selections += [f3(p['left'],p['right'],width,height,p['bottom'][0])]\n",
    "    \n",
    "    width = 200\n",
    "    height = 200\n",
    "    src = np.array([[0, 0],[height, 0], [height, width], [0, width]])\n",
    "    tform3 = tf.ProjectiveTransform()\n",
    "    \n",
    "    solutions = []\n",
    "    sels = []\n",
    "    for selection in selections:\n",
    "        dst = np.array(selection)\n",
    "        tform3.estimate(src, dst)\n",
    "        warped = tf.warp(image, tform3, output_shape=(height, width))\n",
    "        warped[warped!=0]=1\n",
    "        warped = warped[:,~np.all(warped==0,axis=0)]\n",
    "        warped = warped[~np.all(warped==0,axis=1),:]\n",
    "        warped = warped[:,~np.all(warped==1,axis=0)]\n",
    "        warped = warped[~np.all(warped==1,axis=1),:]\n",
    "        if warped.shape==(0,0):\n",
    "            continue\n",
    "#         print(warped.shape,warped.shape==0)\n",
    "        warped = tf.resize(warped,(height,width))\n",
    "        if warped.sum()>0:\n",
    "#             print(warped.sum())\n",
    "            solutions += [warped]\n",
    "            sels += [selection]\n",
    "        \n",
    "    return solutions,selections"
   ]
  },
  {
   "cell_type": "code",
   "execution_count": 520,
   "metadata": {},
   "outputs": [],
   "source": [
    "def drawSelection(image,selection):\n",
    "    fig, ax = plt.subplots()\n",
    "    ax.imshow(image, interpolation='nearest', cmap=plt.cm.gray)\n",
    "    i = 0\n",
    "    for p in selection:\n",
    "        ax.plot((p[0],selection[(i+1)%len(selection)][0]), (p[1], selection[(i+1)%len(selection)][1]), '-r')\n",
    "        i = (i+1)%len(selection)\n",
    "    plt.show()"
   ]
  },
  {
   "cell_type": "code",
   "execution_count": 521,
   "metadata": {},
   "outputs": [],
   "source": [
    "def drawLine(image,a,d,width):\n",
    "#     fig, ax = plt.subplots()\n",
    "#     print(a,d)\n",
    "#     ax.imshow(image, interpolation='nearest', cmap=plt.cm.gray)\n",
    "#     ax.plot((0,width), (d/np.sin(a), (d-width*np.cos(a))/np.sin(a)), '-r')\n",
    "#     plt.show()\n",
    "    pass"
   ]
  },
  {
   "cell_type": "code",
   "execution_count": 522,
   "metadata": {},
   "outputs": [
    {
     "name": "stdout",
     "output_type": "stream",
     "text": [
      "./datasets/set7/2.png\n",
      "[0, 57.539473684210527] [19.000000000000075, 190]\n",
      "[173, 9.7368421052631788] [173, 148.0]\n",
      "[0, 57.539473684210527] [0, 61.003511360839724]\n",
      "[173, 9.7368421052631788] [173, 11.104345083753028]\n",
      "[0, 57.539473684210527] [120.43511450381678, 0]\n",
      "[173, 9.7368421052631788] [158.14503816793891, 190]\n",
      "[0, 57.539473684210527] [0, 189.77790606696817]\n",
      "[173, 9.7368421052631788] [173, 149.60666576073081]\n",
      "[0, 57.539473684210527] [120.43511450381678, 0]\n",
      "[173, 9.7368421052631788] [158.14503816793891, 190]\n",
      "[19.000000000000075, 190] [0, 61.003511360839724]\n",
      "[173, 148.0] [173, 11.104345083753028]\n",
      "[19.000000000000075, 190] [120.43511450381678, 0]\n",
      "[173, 148.0] [158.14503816793891, 190]\n",
      "[19.000000000000075, 190] [0, 189.77790606696817]\n",
      "[173, 148.0] [173, 149.60666576073081]\n",
      "[19.000000000000075, 190] [120.43511450381678, 0]\n",
      "[173, 148.0] [158.14503816793891, 190]\n",
      "[0, 61.003511360839724] [120.43511450381678, 0]\n",
      "[173, 11.104345083753028] [158.14503816793891, 190]\n",
      "[0, 61.003511360839724] [0, 189.77790606696817]\n",
      "[173, 11.104345083753028] [173, 149.60666576073081]\n",
      "[0, 61.003511360839724] [120.43511450381678, 0]\n",
      "[173, 11.104345083753028] [158.14503816793891, 190]\n",
      "[120.43511450381678, 0] [0, 189.77790606696817]\n",
      "[158.14503816793891, 190] [173, 149.60666576073081]\n",
      "[0, 189.77790606696817] [120.43511450381678, 0]\n",
      "[173, 149.60666576073081] [158.14503816793891, 190]\n",
      "[0, 99.681818181818187] [120.43511450381678, 0]\n",
      "[87.719999999999999, 0] [158.14503816793891, 190]\n",
      "[0, 99.681818181818187] [0, 8.106382978723417]\n"
     ]
    },
    {
     "ename": "TypeError",
     "evalue": "'NoneType' object is not iterable",
     "output_type": "error",
     "traceback": [
      "\u001b[1;31m---------------------------------------------------------------------------\u001b[0m",
      "\u001b[1;31mTypeError\u001b[0m                                 Traceback (most recent call last)",
      "\u001b[1;32m<ipython-input-522-63c5bf8db9fa>\u001b[0m in \u001b[0;36m<module>\u001b[1;34m()\u001b[0m\n\u001b[0;32m     12\u001b[0m     \u001b[0mimage\u001b[0m \u001b[1;33m=\u001b[0m \u001b[0mio\u001b[0m\u001b[1;33m.\u001b[0m\u001b[0mimread\u001b[0m\u001b[1;33m(\u001b[0m\u001b[0mpath\u001b[0m\u001b[1;33m)\u001b[0m\u001b[1;33m\u001b[0m\u001b[0m\n\u001b[0;32m     13\u001b[0m \u001b[1;33m\u001b[0m\u001b[0m\n\u001b[1;32m---> 14\u001b[1;33m     \u001b[0msols\u001b[0m\u001b[1;33m,\u001b[0m\u001b[0msels\u001b[0m \u001b[1;33m=\u001b[0m \u001b[0mnormalize\u001b[0m\u001b[1;33m(\u001b[0m\u001b[0mimage\u001b[0m\u001b[1;33m)\u001b[0m\u001b[1;33m\u001b[0m\u001b[0m\n\u001b[0m\u001b[0;32m     15\u001b[0m     \u001b[1;32mfor\u001b[0m \u001b[0msol\u001b[0m\u001b[1;33m,\u001b[0m\u001b[0msel\u001b[0m \u001b[1;32min\u001b[0m \u001b[0mzip\u001b[0m\u001b[1;33m(\u001b[0m\u001b[0msols\u001b[0m\u001b[1;33m,\u001b[0m\u001b[0msels\u001b[0m\u001b[1;33m)\u001b[0m\u001b[1;33m:\u001b[0m\u001b[1;33m\u001b[0m\u001b[0m\n\u001b[0;32m     16\u001b[0m \u001b[1;31m#         drawSelection(image,sel)\u001b[0m\u001b[1;33m\u001b[0m\u001b[1;33m\u001b[0m\u001b[0m\n",
      "\u001b[1;32m<ipython-input-519-32e3d9abe835>\u001b[0m in \u001b[0;36mnormalize\u001b[1;34m(image)\u001b[0m\n\u001b[0;32m     91\u001b[0m     \u001b[1;32mfor\u001b[0m \u001b[0mp\u001b[0m \u001b[1;32min\u001b[0m \u001b[0mpossibilities\u001b[0m\u001b[1;33m:\u001b[0m\u001b[1;33m\u001b[0m\u001b[0m\n\u001b[0;32m     92\u001b[0m         \u001b[1;32mif\u001b[0m \u001b[0mp\u001b[0m\u001b[1;33m[\u001b[0m\u001b[1;34m'left'\u001b[0m\u001b[1;33m]\u001b[0m\u001b[1;33m!=\u001b[0m\u001b[0mp\u001b[0m\u001b[1;33m[\u001b[0m\u001b[1;34m'right'\u001b[0m\u001b[1;33m]\u001b[0m\u001b[1;33m:\u001b[0m\u001b[1;33m\u001b[0m\u001b[0m\n\u001b[1;32m---> 93\u001b[1;33m             \u001b[0mselections\u001b[0m \u001b[1;33m+=\u001b[0m \u001b[1;33m[\u001b[0m\u001b[0mf3\u001b[0m\u001b[1;33m(\u001b[0m\u001b[0mp\u001b[0m\u001b[1;33m[\u001b[0m\u001b[1;34m'left'\u001b[0m\u001b[1;33m]\u001b[0m\u001b[1;33m,\u001b[0m\u001b[0mp\u001b[0m\u001b[1;33m[\u001b[0m\u001b[1;34m'right'\u001b[0m\u001b[1;33m]\u001b[0m\u001b[1;33m,\u001b[0m\u001b[0mwidth\u001b[0m\u001b[1;33m,\u001b[0m\u001b[0mheight\u001b[0m\u001b[1;33m,\u001b[0m\u001b[0mp\u001b[0m\u001b[1;33m[\u001b[0m\u001b[1;34m'bottom'\u001b[0m\u001b[1;33m]\u001b[0m\u001b[1;33m[\u001b[0m\u001b[1;36m0\u001b[0m\u001b[1;33m]\u001b[0m\u001b[1;33m)\u001b[0m\u001b[1;33m]\u001b[0m\u001b[1;33m\u001b[0m\u001b[0m\n\u001b[0m\u001b[0;32m     94\u001b[0m \u001b[1;33m\u001b[0m\u001b[0m\n\u001b[0;32m     95\u001b[0m     \u001b[0mwidth\u001b[0m \u001b[1;33m=\u001b[0m \u001b[1;36m200\u001b[0m\u001b[1;33m\u001b[0m\u001b[0m\n",
      "\u001b[1;32m<ipython-input-518-abb01ba4ab5c>\u001b[0m in \u001b[0;36mf3\u001b[1;34m(pl, pr, width, height, a)\u001b[0m\n\u001b[0;32m     50\u001b[0m     \u001b[0mp3\u001b[0m\u001b[1;33m,\u001b[0m\u001b[0mp4\u001b[0m \u001b[1;33m=\u001b[0m \u001b[0mf2\u001b[0m\u001b[1;33m(\u001b[0m\u001b[1;33m*\u001b[0m\u001b[0mpr\u001b[0m\u001b[1;33m,\u001b[0m\u001b[0mwidth\u001b[0m\u001b[1;33m,\u001b[0m\u001b[0mheight\u001b[0m\u001b[1;33m)\u001b[0m\u001b[1;33m\u001b[0m\u001b[0m\n\u001b[0;32m     51\u001b[0m \u001b[1;33m\u001b[0m\u001b[0m\n\u001b[1;32m---> 52\u001b[1;33m     \u001b[1;33m[\u001b[0m\u001b[0mp5\u001b[0m\u001b[1;33m,\u001b[0m\u001b[0mp6\u001b[0m\u001b[1;33m]\u001b[0m \u001b[1;33m=\u001b[0m \u001b[0mf4\u001b[0m\u001b[1;33m(\u001b[0m\u001b[0mp1\u001b[0m\u001b[1;33m,\u001b[0m\u001b[0mp3\u001b[0m\u001b[1;33m,\u001b[0m\u001b[0ma\u001b[0m\u001b[1;33m,\u001b[0m\u001b[0mpl\u001b[0m\u001b[1;33m,\u001b[0m\u001b[0mpr\u001b[0m\u001b[1;33m,\u001b[0m\u001b[0mwidth\u001b[0m\u001b[1;33m,\u001b[0m\u001b[0mheight\u001b[0m\u001b[1;33m)\u001b[0m\u001b[1;33m\u001b[0m\u001b[0m\n\u001b[0m\u001b[0;32m     53\u001b[0m     \u001b[1;33m[\u001b[0m\u001b[0mp7\u001b[0m\u001b[1;33m,\u001b[0m\u001b[0mp8\u001b[0m\u001b[1;33m]\u001b[0m \u001b[1;33m=\u001b[0m \u001b[0mf4\u001b[0m\u001b[1;33m(\u001b[0m\u001b[0mp2\u001b[0m\u001b[1;33m,\u001b[0m\u001b[0mp4\u001b[0m\u001b[1;33m,\u001b[0m\u001b[0ma\u001b[0m\u001b[1;33m,\u001b[0m\u001b[0mpl\u001b[0m\u001b[1;33m,\u001b[0m\u001b[0mpr\u001b[0m\u001b[1;33m,\u001b[0m\u001b[0mwidth\u001b[0m\u001b[1;33m,\u001b[0m\u001b[0mheight\u001b[0m\u001b[1;33m)\u001b[0m\u001b[1;33m\u001b[0m\u001b[0m\n\u001b[0;32m     54\u001b[0m     \u001b[1;32mreturn\u001b[0m \u001b[1;33m[\u001b[0m\u001b[0mp5\u001b[0m\u001b[1;33m,\u001b[0m\u001b[0mp7\u001b[0m\u001b[1;33m,\u001b[0m\u001b[0mp8\u001b[0m\u001b[1;33m,\u001b[0m\u001b[0mp6\u001b[0m\u001b[1;33m]\u001b[0m\u001b[1;33m\u001b[0m\u001b[0m\n",
      "\u001b[1;31mTypeError\u001b[0m: 'NoneType' object is not iterable"
     ]
    },
    {
     "data": {
      "image/png": "[encoded data removed]",
      "text/plain": [
       "<matplotlib.figure.Figure at 0x2a9065ce7f0>"
      ]
     },
     "metadata": {},
     "output_type": "display_data"
    },
    {
     "data": {
      "text/plain": [
       "<matplotlib.figure.Figure at 0x2a904e4c748>"
      ]
     },
     "metadata": {},
     "output_type": "display_data"
    }
   ],
   "source": [
    "# path = \"./datasets/set7/1.png\"\n",
    "# image = io.imread(path)\n",
    "# sols,sels = normalize(image)\n",
    "# for sol,sel in zip(sols,sels):\n",
    "#     drawSelection(image,sel)\n",
    "#     plt.figure()\n",
    "#     plt.imshow(sol)\n",
    "\n",
    "for i in range(2,3):\n",
    "    path = \"./datasets/set7/\"+str(i)+\".png\"\n",
    "    print(path)\n",
    "    image = io.imread(path)\n",
    "    \n",
    "    sols,sels = normalize(image)\n",
    "    for sol,sel in zip(sols,sels):\n",
    "#         drawSelection(image,sel)\n",
    "        plt.figure()\n",
    "        plt.imshow(sol)"
   ]
  },
  {
   "cell_type": "code",
   "execution_count": null,
   "metadata": {},
   "outputs": [],
   "source": []
  },
  {
   "cell_type": "code",
   "execution_count": 323,
   "metadata": {},
   "outputs": [
    {
     "name": "stdout",
     "output_type": "stream",
     "text": [
      "-2.39882267906 -308.955973049\n",
      "660 262 -262.0\n",
      "458 42 -42.0\n"
     ]
    }
   ],
   "source": [
    "point1,point2 = [[ 660,  262], [ 458,   42]]\n",
    "a = np.arctan2(point2[0]-point1[0],point2[1]-point1[1])\n",
    "d = point1[1] * np.sin(-a) + point1[0]*np.cos(-a)\n",
    "\n",
    "print(a,d)\n",
    "for x,y in [point1,point2]:\n",
    "    print(x,y,d/np.sin(a)-np.cos(a)/np.sin(a)*x)"
   ]
  },
  {
   "cell_type": "code",
   "execution_count": 496,
   "metadata": {},
   "outputs": [
    {
     "data": {
      "text/plain": [
       "True"
      ]
     },
     "execution_count": 496,
     "metadata": {},
     "output_type": "execute_result"
    }
   ],
   "source": [
    "(0,0)==(0,0)"
   ]
  }
 ],
 "metadata": {
  "kernelspec": {
   "display_name": "Python 3",
   "language": "python",
   "name": "python3"
  },
  "language_info": {
   "codemirror_mode": {
    "name": "ipython",
    "version": 3
   },
   "file_extension": ".py",
   "mimetype": "text/x-python",
   "name": "python",
   "nbconvert_exporter": "python",
   "pygments_lexer": "ipython3",
   "version": "3.6.3"
  }
 },
 "nbformat": 4,
 "nbformat_minor": 2
}
